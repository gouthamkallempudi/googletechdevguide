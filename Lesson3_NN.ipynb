{
  "nbformat": 4,
  "nbformat_minor": 0,
  "metadata": {
    "colab": {
      "name": "Lesson3-NN",
      "version": "0.3.2",
      "provenance": [],
      "include_colab_link": true
    },
    "kernelspec": {
      "name": "python3",
      "display_name": "Python 3"
    },
    "accelerator": "TPU"
  },
  "cells": [
    {
      "cell_type": "markdown",
      "metadata": {
        "id": "view-in-github",
        "colab_type": "text"
      },
      "source": [
        "<a href=\"https://colab.research.google.com/github/gouthamkallempudi/googletechdevguide/blob/master/Lesson3_NN.ipynb\" target=\"_parent\"><img src=\"https://colab.research.google.com/assets/colab-badge.svg\" alt=\"Open In Colab\"/></a>"
      ]
    },
    {
      "metadata": {
        "id": "EMeVCnP1OuCd",
        "colab_type": "code",
        "colab": {}
      },
      "cell_type": "code",
      "source": [
        "import tensorflow as tf\n",
        "import pandas as pd\n",
        "import numpy as np"
      ],
      "execution_count": 0,
      "outputs": []
    },
    {
      "metadata": {
        "id": "v23gMM_4RVJn",
        "colab_type": "code",
        "colab": {}
      },
      "cell_type": "code",
      "source": [
        "X  = tf.placeholder(tf.float32 , [None , 784])\n",
        "Y_ = tf.placeholder(tf.float32 , [None , 10])"
      ],
      "execution_count": 0,
      "outputs": []
    },
    {
      "metadata": {
        "id": "XLi5P9aJRVpK",
        "colab_type": "code",
        "colab": {}
      },
      "cell_type": "code",
      "source": [
        "W1 = tf.Variable(tf.truncated_normal([784 , 200] , stddev = 0.01))\n",
        "b1 = tf.Variable(tf.ones([200])/100)\n",
        "\n",
        "W2 = tf.Variable(tf.truncated_normal([200 , 100] , stddev = 0.01))\n",
        "b2 = tf.Variable(tf.ones([100])/100)\n",
        "\n",
        "W3 = tf.Variable(tf.truncated_normal([100 , 60] , stddev = 0.01))\n",
        "b3 = tf.Variable(tf.ones([60])/100)\n",
        "\n",
        "W4 = tf.Variable(tf.truncated_normal([60 , 30] , stddev = 0.01))\n",
        "b4 = tf.Variable(tf.ones([30])/100)\n",
        "\n",
        "W5 = tf.Variable(tf.truncated_normal([30 , 10] , stddev = 0.01))\n",
        "b5 = tf.Variable(tf.ones([10])/100)\n",
        "\n",
        "step = tf.placeholder(tf.int32)\n",
        "pkeep = tf.placeholder(tf.float32)"
      ],
      "execution_count": 0,
      "outputs": []
    },
    {
      "metadata": {
        "id": "avwvozUFRWF1",
        "colab_type": "code",
        "colab": {}
      },
      "cell_type": "code",
      "source": [
        "def model_sigmoid():\n",
        "  layer1 = tf.nn.sigmoid(tf.matmul(X , W1) + b1)\n",
        "  layer1d = tf.nn.dropout(layer1 , pkeep)\n",
        "  \n",
        "  layer2 = tf.nn.sigmoid(tf.matmul(layer1 , W2) + b2)\n",
        "  layer3 = tf.nn.sigmoid(tf.matmul(layer2 , W3) + b3)\n",
        "  layer4 = tf.nn.sigmoid(tf.matmul(layer3 , W4) + b4)\n",
        "  layer5 = tf.matmul(layer4 , W5) + b5\n",
        "  \n",
        "  Y = tf.nn.softmax(layer5)\n",
        "  return Y , layer5\n",
        "  \n",
        "  "
      ],
      "execution_count": 0,
      "outputs": []
    },
    {
      "metadata": {
        "id": "gp7sQnfqRWfu",
        "colab_type": "code",
        "colab": {}
      },
      "cell_type": "code",
      "source": [
        "def model_relu():\n",
        "  layer1 = tf.nn.relu(tf.matmul(X , W1) + b1)\n",
        "  layer1d = tf.nn.dropout(layer1 , pkeep)\n",
        "  \n",
        "  layer2 = tf.nn.relu(tf.matmul(layer1d , W2) + b2)\n",
        "  layer2d = tf.nn.dropout(layer2 , pkeep)\n",
        "  \n",
        "  layer3 = tf.nn.relu(tf.matmul(layer2d , W3) + b3)\n",
        "  layer3d = tf.nn.dropout(layer3 , pkeep)\n",
        "  \n",
        "  layer4 = tf.nn.relu(tf.matmul(layer3d , W4) + b4)\n",
        "  layer4d = tf.nn.dropout(layer4 , pkeep)\n",
        "  \n",
        "  layer5 = tf.matmul(layer4d , W5) + b5\n",
        "  \n",
        "  Y = tf.nn.softmax(layer5)\n",
        "  return Y , layer5"
      ],
      "execution_count": 0,
      "outputs": []
    },
    {
      "metadata": {
        "id": "biYp77N2WoCN",
        "colab_type": "code",
        "colab": {}
      },
      "cell_type": "code",
      "source": [
        "Ylogits , Y = model_relu()\n",
        "cross_entropy = tf.nn.softmax_cross_entropy_with_logits(logits=Ylogits, labels=Y_)\n",
        "cross_entropy = tf.reduce_mean(cross_entropy)*100\n",
        "\n",
        "is_correct = tf.equal(tf.argmax(Y , 1) , tf.argmax(Y_ , 1))\n",
        "accuracy = tf.reduce_mean(tf.cast(is_correct, tf.float32))"
      ],
      "execution_count": 0,
      "outputs": []
    },
    {
      "metadata": {
        "id": "Ml12XqhqWohu",
        "colab_type": "code",
        "colab": {}
      },
      "cell_type": "code",
      "source": [
        "import math\n",
        "lr = 0.0001 + tf.train.exponential_decay(0.003, step, 2000, 1/math.e)\n",
        "optimizer = tf.train.AdamOptimizer(lr)\n",
        "train_step = optimizer.minimize(cross_entropy)"
      ],
      "execution_count": 0,
      "outputs": []
    },
    {
      "metadata": {
        "id": "y0BZZk4CX6RO",
        "colab_type": "code",
        "colab": {
          "base_uri": "https://localhost:8080/",
          "height": 85
        },
        "outputId": "ff57c58d-f2ec-405f-d20e-32c971cb5898"
      },
      "cell_type": "code",
      "source": [
        "from tensorflow.examples.tutorials.mnist import input_data\n",
        "mnist = input_data.read_data_sets(\"/tmp/data/\", one_hot=True)"
      ],
      "execution_count": 95,
      "outputs": [
        {
          "output_type": "stream",
          "text": [
            "Extracting /tmp/data/train-images-idx3-ubyte.gz\n",
            "Extracting /tmp/data/train-labels-idx1-ubyte.gz\n",
            "Extracting /tmp/data/t10k-images-idx3-ubyte.gz\n",
            "Extracting /tmp/data/t10k-labels-idx1-ubyte.gz\n"
          ],
          "name": "stdout"
        }
      ]
    },
    {
      "metadata": {
        "id": "drKrHX7hX6tm",
        "colab_type": "code",
        "colab": {
          "base_uri": "https://localhost:8080/",
          "height": 187
        },
        "outputId": "59ab0876-4381-4922-cfd5-7f699aacabaf"
      },
      "cell_type": "code",
      "source": [
        "init = tf.global_variables_initializer()\n",
        "sess = tf.Session()\n",
        "sess.run(init)\n",
        "\n",
        "for i in range(1000):\n",
        "  batch_X , batch_Y = mnist.train.next_batch(100)\n",
        "  train_data = {X : batch_X , Y_ : batch_Y , pkeep : 0.7 , step: i}\n",
        "  \n",
        "  sess.run(train_step , feed_dict = train_data)\n",
        " \n",
        "  if i%100 == 0:\n",
        "    test_data={X: mnist.test.images, Y_: mnist.test.labels , pkeep : 1.0}\n",
        "    a,c = sess.run([accuracy, cross_entropy], feed_dict=test_data)\n",
        "    print(a , c)\n",
        "   "
      ],
      "execution_count": 101,
      "outputs": [
        {
          "output_type": "stream",
          "text": [
            "0.1032 230.25882\n",
            "0.3957 204.26068\n",
            "0.6305 185.30276\n",
            "0.7148 175.30746\n",
            "0.792 167.52505\n",
            "0.8722 159.11067\n",
            "0.8929 156.81717\n",
            "0.9063 155.4399\n",
            "0.9099 155.15678\n",
            "0.91 155.13837\n"
          ],
          "name": "stdout"
        }
      ]
    },
    {
      "metadata": {
        "id": "tt-h3wJTWpBP",
        "colab_type": "code",
        "colab": {}
      },
      "cell_type": "code",
      "source": [
        ""
      ],
      "execution_count": 0,
      "outputs": []
    },
    {
      "metadata": {
        "id": "GMdeIZW_fmwS",
        "colab_type": "code",
        "colab": {
          "base_uri": "https://localhost:8080/",
          "height": 51
        },
        "outputId": "6ebd8a58-6a28-4482-8743-dd03edd997f6"
      },
      "cell_type": "code",
      "source": [
        "print(a)\n",
        "print(c)"
      ],
      "execution_count": 97,
      "outputs": [
        {
          "output_type": "stream",
          "text": [
            "0.9049\n",
            "156.10382\n"
          ],
          "name": "stdout"
        }
      ]
    }
  ]
}