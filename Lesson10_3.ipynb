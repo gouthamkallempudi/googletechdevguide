{
  "nbformat": 4,
  "nbformat_minor": 0,
  "metadata": {
    "colab": {
      "name": "Lesson10.3.ipynb",
      "version": "0.3.2",
      "provenance": [],
      "collapsed_sections": [],
      "include_colab_link": true
    },
    "kernelspec": {
      "name": "python3",
      "display_name": "Python 3"
    },
    "accelerator": "TPU"
  },
  "cells": [
    {
      "cell_type": "markdown",
      "metadata": {
        "id": "view-in-github",
        "colab_type": "text"
      },
      "source": [
        "<a href=\"https://colab.research.google.com/github/gouthamkallempudi/googletechdevguide/blob/master/Lesson10_3.ipynb\" target=\"_parent\"><img src=\"https://colab.research.google.com/assets/colab-badge.svg\" alt=\"Open In Colab\"/></a>"
      ]
    },
    {
      "metadata": {
        "id": "J_sALc_jCIBu",
        "colab_type": "code",
        "colab": {
          "base_uri": "https://localhost:8080/",
          "height": 34
        },
        "outputId": "262babc6-ee62-4310-cc90-47007a8221ad"
      },
      "cell_type": "code",
      "source": [
        "#Multi-Class Classification\n",
        "\n",
        "import keras\n",
        "keras.__version__"
      ],
      "execution_count": 23,
      "outputs": [
        {
          "output_type": "execute_result",
          "data": {
            "text/plain": [
              "'2.2.4'"
            ]
          },
          "metadata": {
            "tags": []
          },
          "execution_count": 23
        }
      ]
    },
    {
      "metadata": {
        "id": "O8XHs3FCDzVS",
        "colab_type": "code",
        "colab": {}
      },
      "cell_type": "code",
      "source": [
        "from keras.datasets import reuters\n",
        "(train_data , train_labels) , (test_data , test_labels) = reuters.load_data(num_words = 10000)"
      ],
      "execution_count": 0,
      "outputs": []
    },
    {
      "metadata": {
        "id": "B2ZRXqUDDzS5",
        "colab_type": "code",
        "colab": {
          "base_uri": "https://localhost:8080/",
          "height": 34
        },
        "outputId": "5a3acc48-106b-4ed7-af10-a21af607b3a8"
      },
      "cell_type": "code",
      "source": [
        "train_data.shape"
      ],
      "execution_count": 25,
      "outputs": [
        {
          "output_type": "execute_result",
          "data": {
            "text/plain": [
              "(8982,)"
            ]
          },
          "metadata": {
            "tags": []
          },
          "execution_count": 25
        }
      ]
    },
    {
      "metadata": {
        "id": "xJbUB8uIDzQm",
        "colab_type": "code",
        "colab": {
          "base_uri": "https://localhost:8080/",
          "height": 34
        },
        "outputId": "682def34-e5a7-47c5-c322-8e4b29a78c6b"
      },
      "cell_type": "code",
      "source": [
        "test_data.shape"
      ],
      "execution_count": 26,
      "outputs": [
        {
          "output_type": "execute_result",
          "data": {
            "text/plain": [
              "(2246,)"
            ]
          },
          "metadata": {
            "tags": []
          },
          "execution_count": 26
        }
      ]
    },
    {
      "metadata": {
        "id": "yRbuu3i9DzOY",
        "colab_type": "code",
        "colab": {}
      },
      "cell_type": "code",
      "source": [
        "import numpy as np\n",
        "\n",
        "def vectorize_sequences(sequences , dimensions = 10000):\n",
        "  results = np.zeros((len(sequences) , dimensions))\n",
        "  for i , sequence in enumerate(sequences):\n",
        "    results[i , sequence] = 1\n",
        "  return results\n",
        "  \n",
        "x_train = vectorize_sequences(train_data)\n",
        "x_test = vectorize_sequences(test_data)"
      ],
      "execution_count": 0,
      "outputs": []
    },
    {
      "metadata": {
        "id": "x4ha6F0FDzL5",
        "colab_type": "code",
        "colab": {}
      },
      "cell_type": "code",
      "source": [
        "def to_one_hot(sequences , dimensions = 46):\n",
        "  results = np.zeros((len(sequences) , dimensions))\n",
        "  for i , sequence in enumerate(sequences):\n",
        "    results[i , sequence] = 1\n",
        "  return results\n",
        "\n",
        "one_hot_train_labels = to_one_hot(train_labels)\n",
        "one_hot_test_labels = to_one_hot(test_labels)"
      ],
      "execution_count": 0,
      "outputs": []
    },
    {
      "metadata": {
        "id": "G0DujrGlDzJl",
        "colab_type": "code",
        "colab": {
          "base_uri": "https://localhost:8080/",
          "height": 34
        },
        "outputId": "a1a3ed8a-47ad-41e7-d5b1-b6b0f6cde733"
      },
      "cell_type": "code",
      "source": [
        "one_hot_train_labels.shape"
      ],
      "execution_count": 29,
      "outputs": [
        {
          "output_type": "execute_result",
          "data": {
            "text/plain": [
              "(8982, 46)"
            ]
          },
          "metadata": {
            "tags": []
          },
          "execution_count": 29
        }
      ]
    },
    {
      "metadata": {
        "id": "8t54THtRDzG1",
        "colab_type": "code",
        "colab": {}
      },
      "cell_type": "code",
      "source": [
        "#keras also has inbuild library to convert y_labels to categorical\n",
        "\n",
        "from keras.utils.np_utils import to_categorical\n",
        "\n",
        "one_hot_train_labels = to_categorical(train_labels)\n",
        "one_hot_test_labels = to_categorical(test_labels)"
      ],
      "execution_count": 0,
      "outputs": []
    },
    {
      "metadata": {
        "id": "RgiZK9I2DzEw",
        "colab_type": "code",
        "colab": {}
      },
      "cell_type": "code",
      "source": [
        "from keras import models\n",
        "from keras import layers\n",
        "\n",
        "model = models.Sequential()\n",
        "model.add(layers.Dense(64, activation='relu', input_shape=(10000,)))\n",
        "model.add(layers.Dense(64, activation='relu'))\n",
        "model.add(layers.Dense(46, activation='softmax'))"
      ],
      "execution_count": 0,
      "outputs": []
    },
    {
      "metadata": {
        "id": "OIRkNoyqDzCk",
        "colab_type": "code",
        "colab": {}
      },
      "cell_type": "code",
      "source": [
        "model.compile(optimizer = \"rmsprop\" , loss=\"categorical_crossentropy\" , metrics = [\"accuracy\"])"
      ],
      "execution_count": 0,
      "outputs": []
    },
    {
      "metadata": {
        "id": "ufyflNw8Dy_a",
        "colab_type": "code",
        "colab": {}
      },
      "cell_type": "code",
      "source": [
        "x_val = x_train[:1000]\n",
        "partial_x_train = x_train[1000:]\n",
        "\n",
        "y_val = one_hot_train_labels[:1000]\n",
        "partial_y_train = one_hot_train_labels[1000:]"
      ],
      "execution_count": 0,
      "outputs": []
    },
    {
      "metadata": {
        "id": "VJttV302Dy8e",
        "colab_type": "code",
        "colab": {
          "base_uri": "https://localhost:8080/",
          "height": 1104
        },
        "outputId": "d087abef-0a3d-4aa7-ed0c-1a73861bb564"
      },
      "cell_type": "code",
      "source": [
        "history = model.fit(partial_x_train,\n",
        "                    partial_y_train,\n",
        "                    epochs=20,\n",
        "                    batch_size=512,\n",
        "                    validation_data=(x_val, y_val))\n",
        "\n",
        "\n",
        "\n",
        "import matplotlib.pyplot as plt\n",
        "\n",
        "loss = history.history['loss']\n",
        "val_loss = history.history['val_loss']\n",
        "\n",
        "epochs = range(1, len(loss) + 1)\n",
        "\n",
        "plt.plot(epochs, loss, 'bo', label='Training loss')\n",
        "plt.plot(epochs, val_loss, 'b', label='Validation loss')\n",
        "plt.title('Training and validation loss')\n",
        "plt.xlabel('Epochs')\n",
        "plt.ylabel('Loss')\n",
        "plt.legend()\n",
        "\n",
        "plt.show()"
      ],
      "execution_count": 35,
      "outputs": [
        {
          "output_type": "stream",
          "text": [
            "Train on 7982 samples, validate on 1000 samples\n",
            "Epoch 1/20\n",
            "7982/7982 [==============================] - 1s 179us/step - loss: 2.5180 - acc: 0.4959 - val_loss: 1.7181 - val_acc: 0.6130\n",
            "Epoch 2/20\n",
            "7982/7982 [==============================] - 1s 152us/step - loss: 1.4426 - acc: 0.6885 - val_loss: 1.3489 - val_acc: 0.7070\n",
            "Epoch 3/20\n",
            "7982/7982 [==============================] - 1s 154us/step - loss: 1.0951 - acc: 0.7650 - val_loss: 1.1719 - val_acc: 0.7410\n",
            "Epoch 4/20\n",
            "7982/7982 [==============================] - 1s 156us/step - loss: 0.8698 - acc: 0.8167 - val_loss: 1.0839 - val_acc: 0.7570\n",
            "Epoch 5/20\n",
            "7982/7982 [==============================] - 1s 156us/step - loss: 0.7034 - acc: 0.8487 - val_loss: 0.9864 - val_acc: 0.7810\n",
            "Epoch 6/20\n",
            "7982/7982 [==============================] - 1s 156us/step - loss: 0.5674 - acc: 0.8805 - val_loss: 0.9412 - val_acc: 0.8030\n",
            "Epoch 7/20\n",
            "7982/7982 [==============================] - 1s 157us/step - loss: 0.4621 - acc: 0.9048 - val_loss: 0.9121 - val_acc: 0.8030\n",
            "Epoch 8/20\n",
            "7982/7982 [==============================] - 1s 161us/step - loss: 0.3735 - acc: 0.9211 - val_loss: 0.9355 - val_acc: 0.7900\n",
            "Epoch 9/20\n",
            "7982/7982 [==============================] - 1s 156us/step - loss: 0.3064 - acc: 0.9307 - val_loss: 0.8957 - val_acc: 0.8050\n",
            "Epoch 10/20\n",
            "7982/7982 [==============================] - 1s 156us/step - loss: 0.2559 - acc: 0.9415 - val_loss: 0.9074 - val_acc: 0.8110\n",
            "Epoch 11/20\n",
            "7982/7982 [==============================] - 1s 157us/step - loss: 0.2202 - acc: 0.9466 - val_loss: 0.9174 - val_acc: 0.8110\n",
            "Epoch 12/20\n",
            "7982/7982 [==============================] - 1s 158us/step - loss: 0.1890 - acc: 0.9506 - val_loss: 0.9091 - val_acc: 0.8160\n",
            "Epoch 13/20\n",
            "7982/7982 [==============================] - 1s 165us/step - loss: 0.1716 - acc: 0.9520 - val_loss: 0.9334 - val_acc: 0.8100\n",
            "Epoch 14/20\n",
            "7982/7982 [==============================] - 1s 161us/step - loss: 0.1543 - acc: 0.9558 - val_loss: 0.9678 - val_acc: 0.8070\n",
            "Epoch 15/20\n",
            "7982/7982 [==============================] - 1s 160us/step - loss: 0.1397 - acc: 0.9564 - val_loss: 0.9698 - val_acc: 0.8130\n",
            "Epoch 16/20\n",
            "7982/7982 [==============================] - 1s 160us/step - loss: 0.1322 - acc: 0.9557 - val_loss: 1.0220 - val_acc: 0.8060\n",
            "Epoch 17/20\n",
            "7982/7982 [==============================] - 1s 160us/step - loss: 0.1224 - acc: 0.9582 - val_loss: 1.0290 - val_acc: 0.7990\n",
            "Epoch 18/20\n",
            "7982/7982 [==============================] - 1s 160us/step - loss: 0.1206 - acc: 0.9577 - val_loss: 1.0421 - val_acc: 0.8060\n",
            "Epoch 19/20\n",
            "7982/7982 [==============================] - 1s 160us/step - loss: 0.1145 - acc: 0.9592 - val_loss: 1.0985 - val_acc: 0.7970\n",
            "Epoch 20/20\n",
            "7982/7982 [==============================] - 1s 161us/step - loss: 0.1118 - acc: 0.9598 - val_loss: 1.0706 - val_acc: 0.8020\n"
          ],
          "name": "stdout"
        },
        {
          "output_type": "display_data",
          "data": {
            "image/png": "[encoded data removed]",
            "text/plain": [
              "<matplotlib.figure.Figure at 0x7f1300fca048>"
            ]
          },
          "metadata": {
            "tags": []
          }
        }
      ]
    },
    {
      "metadata": {
        "id": "mpIYDb7ODy30",
        "colab_type": "code",
        "colab": {
          "base_uri": "https://localhost:8080/",
          "height": 375
        },
        "outputId": "0c33c215-c40c-4439-d7d5-9da817dfe030"
      },
      "cell_type": "code",
      "source": [
        "plt.clf()   # clear figure\n",
        "\n",
        "acc = history.history['acc']\n",
        "val_acc = history.history['val_acc']\n",
        "\n",
        "plt.plot(epochs, acc, 'bo', label='Training acc')\n",
        "plt.plot(epochs, val_acc, 'b', label='Validation acc')\n",
        "plt.title('Training and validation accuracy')\n",
        "plt.xlabel('Epochs')\n",
        "plt.ylabel('Loss')\n",
        "plt.legend()\n",
        "\n",
        "plt.show()"
      ],
      "execution_count": 36,
      "outputs": [
        {
          "output_type": "display_data",
          "data": {
            "image/png": "[encoded data removed]",
            "text/plain": [
              "<matplotlib.figure.Figure at 0x7f1300fa1a58>"
            ]
          },
          "metadata": {
            "tags": []
          }
        }
      ]
    },
    {
      "metadata": {
        "id": "2raIdkIZDy1R",
        "colab_type": "code",
        "colab": {
          "base_uri": "https://localhost:8080/",
          "height": 336
        },
        "outputId": "0cf64e08-d02c-418c-e66e-69395e882412"
      },
      "cell_type": "code",
      "source": [
        "model = models.Sequential()\n",
        "model.add(layers.Dense(64, activation='relu', input_shape=(10000,)))\n",
        "model.add(layers.Dense(64, activation='relu'))\n",
        "model.add(layers.Dense(46, activation='softmax'))\n",
        "\n",
        "model.compile(optimizer='rmsprop',\n",
        "              loss='categorical_crossentropy',\n",
        "              metrics=['accuracy'])\n",
        "model.fit(partial_x_train,\n",
        "          partial_y_train,\n",
        "          epochs=8,\n",
        "          batch_size=512,\n",
        "          validation_data=(x_val, y_val))"
      ],
      "execution_count": 37,
      "outputs": [
        {
          "output_type": "stream",
          "text": [
            "Train on 7982 samples, validate on 1000 samples\n",
            "Epoch 1/8\n",
            "7982/7982 [==============================] - 1s 187us/step - loss: 2.5398 - acc: 0.5226 - val_loss: 1.6733 - val_acc: 0.6570\n",
            "Epoch 2/8\n",
            "7982/7982 [==============================] - 1s 151us/step - loss: 1.3712 - acc: 0.7121 - val_loss: 1.2758 - val_acc: 0.7210\n",
            "Epoch 3/8\n",
            "7982/7982 [==============================] - 1s 153us/step - loss: 1.0136 - acc: 0.7781 - val_loss: 1.1303 - val_acc: 0.7530\n",
            "Epoch 4/8\n",
            "7982/7982 [==============================] - 1s 154us/step - loss: 0.7975 - acc: 0.8251 - val_loss: 1.0535 - val_acc: 0.7600\n",
            "Epoch 5/8\n",
            "7982/7982 [==============================] - 1s 152us/step - loss: 0.6392 - acc: 0.8626 - val_loss: 0.9752 - val_acc: 0.7920\n",
            "Epoch 6/8\n",
            "7982/7982 [==============================] - 1s 154us/step - loss: 0.5123 - acc: 0.8921 - val_loss: 0.9101 - val_acc: 0.8120\n",
            "Epoch 7/8\n",
            "7982/7982 [==============================] - 1s 160us/step - loss: 0.4128 - acc: 0.9137 - val_loss: 0.8930 - val_acc: 0.8210\n",
            "Epoch 8/8\n",
            "7982/7982 [==============================] - 1s 162us/step - loss: 0.3360 - acc: 0.9287 - val_loss: 0.8736 - val_acc: 0.8260\n"
          ],
          "name": "stdout"
        },
        {
          "output_type": "execute_result",
          "data": {
            "text/plain": [
              "<keras.callbacks.History at 0x7f1300557da0>"
            ]
          },
          "metadata": {
            "tags": []
          },
          "execution_count": 37
        }
      ]
    },
    {
      "metadata": {
        "id": "yy3mJr5FDyzD",
        "colab_type": "code",
        "colab": {
          "base_uri": "https://localhost:8080/",
          "height": 52
        },
        "outputId": "31077e52-f492-4b6d-83e7-f02474863439"
      },
      "cell_type": "code",
      "source": [
        "results = model.evaluate(x_test, one_hot_test_labels)\n",
        "results"
      ],
      "execution_count": 38,
      "outputs": [
        {
          "output_type": "stream",
          "text": [
            "2246/2246 [==============================] - 0s 124us/step\n"
          ],
          "name": "stdout"
        },
        {
          "output_type": "execute_result",
          "data": {
            "text/plain": [
              "[0.9840861292471338, 0.7836153161175423]"
            ]
          },
          "metadata": {
            "tags": []
          },
          "execution_count": 38
        }
      ]
    },
    {
      "metadata": {
        "id": "ZsWqpyrEDywX",
        "colab_type": "code",
        "colab": {}
      },
      "cell_type": "code",
      "source": [
        "predictions = model.predict(x_test)"
      ],
      "execution_count": 0,
      "outputs": []
    },
    {
      "metadata": {
        "id": "gfT3-Cz6DytU",
        "colab_type": "code",
        "colab": {
          "base_uri": "https://localhost:8080/",
          "height": 34
        },
        "outputId": "8d59d62c-56e5-439a-baf3-4d80a35961b2"
      },
      "cell_type": "code",
      "source": [
        "predictions[0].shape"
      ],
      "execution_count": 41,
      "outputs": [
        {
          "output_type": "execute_result",
          "data": {
            "text/plain": [
              "(46,)"
            ]
          },
          "metadata": {
            "tags": []
          },
          "execution_count": 41
        }
      ]
    },
    {
      "metadata": {
        "id": "w7UoTpd_Dyp9",
        "colab_type": "code",
        "colab": {
          "base_uri": "https://localhost:8080/",
          "height": 230
        },
        "outputId": "47a94727-d312-4154-8f20-c86e7fc3bd02"
      },
      "cell_type": "code",
      "source": [
        "predictions[0]"
      ],
      "execution_count": 42,
      "outputs": [
        {
          "output_type": "execute_result",
          "data": {
            "text/plain": [
              "array([2.5649791e-05, 6.3359308e-05, 6.7228961e-05, 6.9614738e-01,\n",
              "       2.8286117e-01, 2.4561902e-07, 1.3804449e-04, 6.5681626e-05,\n",
              "       8.4959120e-03, 1.0517692e-05, 4.7832684e-05, 2.9262691e-03,\n",
              "       3.6250567e-05, 1.8994935e-04, 6.1602314e-06, 2.5945834e-05,\n",
              "       9.6718397e-04, 5.6257867e-04, 4.8135623e-04, 1.0656189e-03,\n",
              "       1.7441234e-03, 5.2823726e-04, 7.8771773e-06, 3.3743196e-04,\n",
              "       1.3844825e-05, 2.3534195e-04, 9.6458716e-06, 3.8621336e-05,\n",
              "       1.6356249e-05, 1.6471405e-04, 7.6040853e-04, 5.2960223e-04,\n",
              "       2.0577487e-05, 3.1911666e-05, 8.0298414e-05, 3.2035161e-05,\n",
              "       7.0744929e-05, 5.9669241e-05, 9.4338495e-05, 3.9073965e-04,\n",
              "       7.2006012e-05, 4.7930315e-04, 2.6470225e-06, 7.5115931e-05,\n",
              "       8.1385806e-06, 1.1940166e-05], dtype=float32)"
            ]
          },
          "metadata": {
            "tags": []
          },
          "execution_count": 42
        }
      ]
    },
    {
      "metadata": {
        "id": "tm622dC3Dyno",
        "colab_type": "code",
        "colab": {
          "base_uri": "https://localhost:8080/",
          "height": 34
        },
        "outputId": "88b0240d-f227-4961-b871-ec88a95ee6d7"
      },
      "cell_type": "code",
      "source": [
        "np.argmax(predictions[0])"
      ],
      "execution_count": 43,
      "outputs": [
        {
          "output_type": "execute_result",
          "data": {
            "text/plain": [
              "3"
            ]
          },
          "metadata": {
            "tags": []
          },
          "execution_count": 43
        }
      ]
    },
    {
      "metadata": {
        "id": "di_OZAgNDylU",
        "colab_type": "code",
        "colab": {}
      },
      "cell_type": "code",
      "source": [
        "# Second Method\n",
        "y_train = np.array(train_labels)\n",
        "y_test = np.array(test_labels)"
      ],
      "execution_count": 0,
      "outputs": []
    },
    {
      "metadata": {
        "id": "jj4alINVDyit",
        "colab_type": "code",
        "colab": {}
      },
      "cell_type": "code",
      "source": [
        "#The only thing it would change is the choice of the loss function. Our previous loss, categorical_crossentropy, \n",
        "#expects the labels to follow a categorical encoding. With integer labels, we should use sparse_categorical_crossentropy\n",
        "\n",
        "#model.compile(optimizer='rmsprop', loss='sparse_categorical_crossentropy', metrics=['acc'])\n",
        "\n"
      ],
      "execution_count": 0,
      "outputs": []
    },
    {
      "metadata": {
        "id": "j3eB8D8ADyf5",
        "colab_type": "code",
        "colab": {}
      },
      "cell_type": "code",
      "source": [
        ""
      ],
      "execution_count": 0,
      "outputs": []
    },
    {
      "metadata": {
        "id": "kyHdEcujDycI",
        "colab_type": "code",
        "colab": {}
      },
      "cell_type": "code",
      "source": [
        ""
      ],
      "execution_count": 0,
      "outputs": []
    },
    {
      "metadata": {
        "id": "mtiDwt2xDyZk",
        "colab_type": "code",
        "colab": {}
      },
      "cell_type": "code",
      "source": [
        ""
      ],
      "execution_count": 0,
      "outputs": []
    },
    {
      "metadata": {
        "id": "KkAZAeUcDyXN",
        "colab_type": "code",
        "colab": {}
      },
      "cell_type": "code",
      "source": [
        ""
      ],
      "execution_count": 0,
      "outputs": []
    },
    {
      "metadata": {
        "id": "Erek7ur6DyVD",
        "colab_type": "code",
        "colab": {}
      },
      "cell_type": "code",
      "source": [
        ""
      ],
      "execution_count": 0,
      "outputs": []
    },
    {
      "metadata": {
        "id": "kThF9499DyRs",
        "colab_type": "code",
        "colab": {}
      },
      "cell_type": "code",
      "source": [
        ""
      ],
      "execution_count": 0,
      "outputs": []
    }
  ]
}