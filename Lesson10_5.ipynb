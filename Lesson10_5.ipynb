{
  "nbformat": 4,
  "nbformat_minor": 0,
  "metadata": {
    "colab": {
      "name": "Lesson10.5.ipynb",
      "version": "0.3.2",
      "provenance": [],
      "collapsed_sections": [],
      "include_colab_link": true
    },
    "kernelspec": {
      "name": "python3",
      "display_name": "Python 3"
    },
    "accelerator": "TPU"
  },
  "cells": [
    {
      "cell_type": "markdown",
      "metadata": {
        "id": "view-in-github",
        "colab_type": "text"
      },
      "source": [
        "<a href=\"https://colab.research.google.com/github/gouthamkallempudi/googletechdevguide/blob/master/Lesson10_5.ipynb\" target=\"_parent\"><img src=\"https://colab.research.google.com/assets/colab-badge.svg\" alt=\"Open In Colab\"/></a>"
      ]
    },
    {
      "metadata": {
        "id": "YhNoAYTSX1lR",
        "colab_type": "code",
        "colab": {
          "base_uri": "https://localhost:8080/",
          "height": 52
        },
        "outputId": "b67cd0e6-332d-4205-cf85-5f86d0aa0585"
      },
      "cell_type": "code",
      "source": [
        "import keras\n",
        "keras.__version__"
      ],
      "execution_count": 1,
      "outputs": [
        {
          "output_type": "stream",
          "text": [
            "Using TensorFlow backend.\n"
          ],
          "name": "stderr"
        },
        {
          "output_type": "execute_result",
          "data": {
            "text/plain": [
              "'2.2.4'"
            ]
          },
          "metadata": {
            "tags": []
          },
          "execution_count": 1
        }
      ]
    },
    {
      "metadata": {
        "id": "zcaMg1W0X_kD",
        "colab_type": "code",
        "colab": {
          "base_uri": "https://localhost:8080/",
          "height": 52
        },
        "outputId": "c7c3f2ba-26a2-408c-e949-e564bf2511f1"
      },
      "cell_type": "code",
      "source": [
        "from keras.datasets import imdb\n",
        "import numpy as np\n",
        "\n",
        "(train_data, train_labels), (test_data, test_labels) = imdb.load_data(num_words=10000)\n",
        "\n",
        "def vectorize_sequences(sequences, dimension=10000):\n",
        "    # Create an all-zero matrix of shape (len(sequences), dimension)\n",
        "    results = np.zeros((len(sequences), dimension))\n",
        "    for i, sequence in enumerate(sequences):\n",
        "        results[i, sequence] = 1.  # set specific indices of results[i] to 1s\n",
        "    return results\n",
        "\n",
        "# Our vectorized training data\n",
        "x_train = vectorize_sequences(train_data)\n",
        "# Our vectorized test data\n",
        "x_test = vectorize_sequences(test_data)\n",
        "# Our vectorized labels\n",
        "y_train = np.asarray(train_labels).astype('float32')\n",
        "y_test = np.asarray(test_labels).astype('float32')"
      ],
      "execution_count": 2,
      "outputs": [
        {
          "output_type": "stream",
          "text": [
            "Downloading data from https://s3.amazonaws.com/text-datasets/imdb.npz\n",
            "17465344/17464789 [==============================] - 1s 0us/step\n"
          ],
          "name": "stdout"
        }
      ]
    },
    {
      "metadata": {
        "id": "-lvJFzrbYAT1",
        "colab_type": "code",
        "colab": {
          "base_uri": "https://localhost:8080/",
          "height": 745
        },
        "outputId": "46ba86a1-1e30-4d93-fb69-21ee59d3da6f"
      },
      "cell_type": "code",
      "source": [
        "#original model\n",
        "from keras import models\n",
        "from keras import layers\n",
        "\n",
        "original_model = models.Sequential()\n",
        "original_model.add(layers.Dense(16, activation='relu', input_shape=(10000,)))\n",
        "original_model.add(layers.Dense(16, activation='relu'))\n",
        "original_model.add(layers.Dense(1, activation='sigmoid'))\n",
        "\n",
        "original_model.compile(optimizer='rmsprop',\n",
        "                       loss='binary_crossentropy',\n",
        "                       metrics=['acc'])\n",
        "\n",
        "original_hist = original_model.fit(x_train, y_train,\n",
        "                                   epochs=20,\n",
        "                                   batch_size=512,\n",
        "                                   validation_data=(x_test, y_test))"
      ],
      "execution_count": 3,
      "outputs": [
        {
          "output_type": "stream",
          "text": [
            "Train on 25000 samples, validate on 25000 samples\n",
            "Epoch 1/20\n",
            "25000/25000 [==============================] - 5s 205us/step - loss: 0.4484 - acc: 0.8173 - val_loss: 0.3369 - val_acc: 0.8770\n",
            "Epoch 2/20\n",
            "25000/25000 [==============================] - 4s 172us/step - loss: 0.2547 - acc: 0.9099 - val_loss: 0.3176 - val_acc: 0.8703\n",
            "Epoch 3/20\n",
            "25000/25000 [==============================] - 4s 168us/step - loss: 0.1967 - acc: 0.9294 - val_loss: 0.2822 - val_acc: 0.8881\n",
            "Epoch 4/20\n",
            "25000/25000 [==============================] - 4s 169us/step - loss: 0.1669 - acc: 0.9411 - val_loss: 0.2949 - val_acc: 0.8834\n",
            "Epoch 5/20\n",
            "25000/25000 [==============================] - 4s 168us/step - loss: 0.1433 - acc: 0.9490 - val_loss: 0.3213 - val_acc: 0.8784\n",
            "Epoch 6/20\n",
            "25000/25000 [==============================] - 4s 168us/step - loss: 0.1269 - acc: 0.9556 - val_loss: 0.3464 - val_acc: 0.8730\n",
            "Epoch 7/20\n",
            "25000/25000 [==============================] - 4s 168us/step - loss: 0.1130 - acc: 0.9610 - val_loss: 0.3609 - val_acc: 0.8710\n",
            "Epoch 8/20\n",
            "25000/25000 [==============================] - 4s 168us/step - loss: 0.1012 - acc: 0.9650 - val_loss: 0.4083 - val_acc: 0.8636\n",
            "Epoch 9/20\n",
            "25000/25000 [==============================] - 4s 168us/step - loss: 0.0907 - acc: 0.9684 - val_loss: 0.4179 - val_acc: 0.8646\n",
            "Epoch 10/20\n",
            "25000/25000 [==============================] - 4s 169us/step - loss: 0.0814 - acc: 0.9718 - val_loss: 0.4466 - val_acc: 0.8621\n",
            "Epoch 11/20\n",
            "25000/25000 [==============================] - 4s 168us/step - loss: 0.0739 - acc: 0.9758 - val_loss: 0.4722 - val_acc: 0.8622\n",
            "Epoch 12/20\n",
            "25000/25000 [==============================] - 4s 171us/step - loss: 0.0631 - acc: 0.9794 - val_loss: 0.5213 - val_acc: 0.8579\n",
            "Epoch 13/20\n",
            "25000/25000 [==============================] - 4s 171us/step - loss: 0.0601 - acc: 0.9794 - val_loss: 0.5326 - val_acc: 0.8583\n",
            "Epoch 14/20\n",
            "25000/25000 [==============================] - 4s 171us/step - loss: 0.0514 - acc: 0.9836 - val_loss: 0.5665 - val_acc: 0.8560\n",
            "Epoch 15/20\n",
            "25000/25000 [==============================] - 4s 169us/step - loss: 0.0468 - acc: 0.9856 - val_loss: 0.6056 - val_acc: 0.8537\n",
            "Epoch 16/20\n",
            "25000/25000 [==============================] - 4s 170us/step - loss: 0.0403 - acc: 0.9873 - val_loss: 0.6628 - val_acc: 0.8504\n",
            "Epoch 17/20\n",
            "25000/25000 [==============================] - 4s 169us/step - loss: 0.0371 - acc: 0.9885 - val_loss: 0.6812 - val_acc: 0.8510\n",
            "Epoch 18/20\n",
            "25000/25000 [==============================] - 4s 169us/step - loss: 0.0300 - acc: 0.9918 - val_loss: 0.7092 - val_acc: 0.8510\n",
            "Epoch 19/20\n",
            "25000/25000 [==============================] - 4s 176us/step - loss: 0.0277 - acc: 0.9923 - val_loss: 0.7411 - val_acc: 0.8501\n",
            "Epoch 20/20\n",
            "25000/25000 [==============================] - 4s 177us/step - loss: 0.0264 - acc: 0.9924 - val_loss: 0.7807 - val_acc: 0.8488\n"
          ],
          "name": "stdout"
        }
      ]
    },
    {
      "metadata": {
        "id": "BIBmkJ0rYARD",
        "colab_type": "code",
        "colab": {
          "base_uri": "https://localhost:8080/",
          "height": 745
        },
        "outputId": "edc712c2-f18a-47b1-ec1b-1695e3f40498"
      },
      "cell_type": "code",
      "source": [
        "smaller_model = models.Sequential()\n",
        "smaller_model.add(layers.Dense(4, activation='relu', input_shape=(10000,)))\n",
        "smaller_model.add(layers.Dense(4, activation='relu'))\n",
        "smaller_model.add(layers.Dense(1, activation='sigmoid'))\n",
        "\n",
        "smaller_model.compile(optimizer='rmsprop',\n",
        "                      loss='binary_crossentropy',\n",
        "                      metrics=['acc'])\n",
        "\n",
        "smaller_model_hist = smaller_model.fit(x_train, y_train,\n",
        "                                       epochs=20,\n",
        "                                       batch_size=512,\n",
        "                                       validation_data=(x_test, y_test))"
      ],
      "execution_count": 4,
      "outputs": [
        {
          "output_type": "stream",
          "text": [
            "Train on 25000 samples, validate on 25000 samples\n",
            "Epoch 1/20\n",
            "25000/25000 [==============================] - 4s 174us/step - loss: 0.5235 - acc: 0.8073 - val_loss: 0.4189 - val_acc: 0.8674\n",
            "Epoch 2/20\n",
            "25000/25000 [==============================] - 4s 166us/step - loss: 0.3374 - acc: 0.8964 - val_loss: 0.3343 - val_acc: 0.8815\n",
            "Epoch 3/20\n",
            "25000/25000 [==============================] - 4s 164us/step - loss: 0.2585 - acc: 0.9163 - val_loss: 0.2935 - val_acc: 0.8895\n",
            "Epoch 4/20\n",
            "25000/25000 [==============================] - 4s 175us/step - loss: 0.2155 - acc: 0.9286 - val_loss: 0.2811 - val_acc: 0.8894\n",
            "Epoch 5/20\n",
            "25000/25000 [==============================] - 4s 169us/step - loss: 0.1868 - acc: 0.9376 - val_loss: 0.2870 - val_acc: 0.8843\n",
            "Epoch 6/20\n",
            "25000/25000 [==============================] - 4s 164us/step - loss: 0.1666 - acc: 0.9430 - val_loss: 0.2832 - val_acc: 0.8856\n",
            "Epoch 7/20\n",
            "25000/25000 [==============================] - 4s 164us/step - loss: 0.1506 - acc: 0.9499 - val_loss: 0.2902 - val_acc: 0.8844\n",
            "Epoch 8/20\n",
            "25000/25000 [==============================] - 4s 165us/step - loss: 0.1370 - acc: 0.9548 - val_loss: 0.3008 - val_acc: 0.8826\n",
            "Epoch 9/20\n",
            "25000/25000 [==============================] - 4s 165us/step - loss: 0.1260 - acc: 0.9579 - val_loss: 0.3120 - val_acc: 0.8796\n",
            "Epoch 10/20\n",
            "25000/25000 [==============================] - 4s 173us/step - loss: 0.1164 - acc: 0.9620 - val_loss: 0.3365 - val_acc: 0.8735\n",
            "Epoch 11/20\n",
            "25000/25000 [==============================] - 4s 174us/step - loss: 0.1081 - acc: 0.9656 - val_loss: 0.3392 - val_acc: 0.8758\n",
            "Epoch 12/20\n",
            "25000/25000 [==============================] - 4s 171us/step - loss: 0.1001 - acc: 0.9690 - val_loss: 0.3566 - val_acc: 0.8716\n",
            "Epoch 13/20\n",
            "25000/25000 [==============================] - 4s 165us/step - loss: 0.0926 - acc: 0.9723 - val_loss: 0.3687 - val_acc: 0.8714\n",
            "Epoch 14/20\n",
            "25000/25000 [==============================] - 4s 164us/step - loss: 0.0869 - acc: 0.9738 - val_loss: 0.3872 - val_acc: 0.8699\n",
            "Epoch 15/20\n",
            "25000/25000 [==============================] - 4s 163us/step - loss: 0.0806 - acc: 0.9758 - val_loss: 0.4036 - val_acc: 0.8666\n",
            "Epoch 16/20\n",
            "25000/25000 [==============================] - 4s 163us/step - loss: 0.0751 - acc: 0.9781 - val_loss: 0.4195 - val_acc: 0.8653\n",
            "Epoch 17/20\n",
            "25000/25000 [==============================] - 4s 166us/step - loss: 0.0694 - acc: 0.9804 - val_loss: 0.4380 - val_acc: 0.8647\n",
            "Epoch 18/20\n",
            "25000/25000 [==============================] - 4s 164us/step - loss: 0.0644 - acc: 0.9825 - val_loss: 0.4568 - val_acc: 0.8632\n",
            "Epoch 19/20\n",
            "25000/25000 [==============================] - 4s 164us/step - loss: 0.0597 - acc: 0.9842 - val_loss: 0.4776 - val_acc: 0.8616\n",
            "Epoch 20/20\n",
            "25000/25000 [==============================] - 4s 163us/step - loss: 0.0554 - acc: 0.9851 - val_loss: 0.4981 - val_acc: 0.8593\n"
          ],
          "name": "stdout"
        }
      ]
    },
    {
      "metadata": {
        "id": "t1fuRwyVYAOD",
        "colab_type": "code",
        "colab": {
          "base_uri": "https://localhost:8080/",
          "height": 362
        },
        "outputId": "3c46190e-20dc-4d3e-d56e-da084fff7320"
      },
      "cell_type": "code",
      "source": [
        "epochs = range(1,21)\n",
        "original_val_loss = original_hist.history['val_loss']\n",
        "smaller_model_val_loss = smaller_model_hist.history['val_loss']\n",
        "\n",
        "import matplotlib.pyplot as plt\n",
        "# b+ is for \"blue cross\"\n",
        "plt.plot(epochs, original_val_loss, '*', label='Original model')\n",
        "# \"bo\" is for \"blue dot\"\n",
        "plt.plot(epochs, smaller_model_val_loss, 'bo', label='Smaller model')\n",
        "plt.xlabel('Epochs')\n",
        "plt.ylabel('Validation loss')\n",
        "plt.legend()\n",
        "\n",
        "plt.show()"
      ],
      "execution_count": 10,
      "outputs": [
        {
          "output_type": "display_data",
          "data": {
            "image/png": "[encoded data removed]",
            "text/plain": [
              "<matplotlib.figure.Figure at 0x7f1b627dd160>"
            ]
          },
          "metadata": {
            "tags": []
          }
        }
      ]
    },
    {
      "metadata": {
        "id": "Zosdh6xGYALD",
        "colab_type": "code",
        "colab": {
          "base_uri": "https://localhost:8080/",
          "height": 745
        },
        "outputId": "0a414c3b-f2cf-4b35-c3f9-e1546af97bf7"
      },
      "cell_type": "code",
      "source": [
        "#bigger model\n",
        "bigger_model = models.Sequential()\n",
        "bigger_model.add(layers.Dense(512, activation='relu', input_shape=(10000,)))\n",
        "bigger_model.add(layers.Dense(512, activation='relu'))\n",
        "bigger_model.add(layers.Dense(1, activation='sigmoid'))\n",
        "\n",
        "bigger_model.compile(optimizer='rmsprop',\n",
        "                     loss='binary_crossentropy',\n",
        "                     metrics=['acc'])\n",
        "\n",
        "bigger_model_hist = bigger_model.fit(x_train, y_train,\n",
        "                                     epochs=20,\n",
        "                                     batch_size=512,\n",
        "                                     validation_data=(x_test, y_test))"
      ],
      "execution_count": 11,
      "outputs": [
        {
          "output_type": "stream",
          "text": [
            "Train on 25000 samples, validate on 25000 samples\n",
            "Epoch 1/20\n",
            "25000/25000 [==============================] - 20s 794us/step - loss: 0.4641 - acc: 0.7940 - val_loss: 0.2844 - val_acc: 0.8896\n",
            "Epoch 2/20\n",
            "25000/25000 [==============================] - 20s 795us/step - loss: 0.2252 - acc: 0.9124 - val_loss: 0.3328 - val_acc: 0.8625\n",
            "Epoch 3/20\n",
            "25000/25000 [==============================] - 20s 796us/step - loss: 0.1373 - acc: 0.9484 - val_loss: 0.3084 - val_acc: 0.8858\n",
            "Epoch 4/20\n",
            "25000/25000 [==============================] - 18s 701us/step - loss: 0.0610 - acc: 0.9814 - val_loss: 0.4225 - val_acc: 0.8840\n",
            "Epoch 5/20\n",
            "25000/25000 [==============================] - 20s 795us/step - loss: 0.0712 - acc: 0.9883 - val_loss: 0.4987 - val_acc: 0.8822\n",
            "Epoch 6/20\n",
            "25000/25000 [==============================] - 20s 809us/step - loss: 0.0743 - acc: 0.9875 - val_loss: 0.5233 - val_acc: 0.8691\n",
            "Epoch 7/20\n",
            "25000/25000 [==============================] - 20s 797us/step - loss: 0.0012 - acc: 1.0000 - val_loss: 0.6573 - val_acc: 0.8801\n",
            "Epoch 8/20\n",
            "25000/25000 [==============================] - 21s 824us/step - loss: 0.0932 - acc: 0.9879 - val_loss: 0.7144 - val_acc: 0.8698\n",
            "Epoch 9/20\n",
            "25000/25000 [==============================] - 20s 796us/step - loss: 0.0046 - acc: 0.9989 - val_loss: 3.0157 - val_acc: 0.6664\n",
            "Epoch 10/20\n",
            "25000/25000 [==============================] - 20s 797us/step - loss: 0.0395 - acc: 0.9936 - val_loss: 0.6962 - val_acc: 0.8788\n",
            "Epoch 11/20\n",
            "25000/25000 [==============================] - 20s 796us/step - loss: 6.8473e-05 - acc: 1.0000 - val_loss: 0.8254 - val_acc: 0.8779\n",
            "Epoch 12/20\n",
            "25000/25000 [==============================] - 20s 795us/step - loss: 8.0191e-06 - acc: 1.0000 - val_loss: 0.9132 - val_acc: 0.8778\n",
            "Epoch 13/20\n",
            "25000/25000 [==============================] - 20s 795us/step - loss: 0.0949 - acc: 0.9917 - val_loss: 1.0051 - val_acc: 0.8702\n",
            "Epoch 14/20\n",
            "25000/25000 [==============================] - 20s 799us/step - loss: 3.4314e-05 - acc: 1.0000 - val_loss: 0.8987 - val_acc: 0.8790\n",
            "Epoch 15/20\n",
            "25000/25000 [==============================] - 20s 796us/step - loss: 1.4123e-06 - acc: 1.0000 - val_loss: 0.9162 - val_acc: 0.8794\n",
            "Epoch 16/20\n",
            "25000/25000 [==============================] - 20s 795us/step - loss: 8.5881e-07 - acc: 1.0000 - val_loss: 0.9509 - val_acc: 0.8800\n",
            "Epoch 17/20\n",
            "25000/25000 [==============================] - 20s 792us/step - loss: 4.1960e-07 - acc: 1.0000 - val_loss: 1.0085 - val_acc: 0.8796\n",
            "Epoch 18/20\n",
            "25000/25000 [==============================] - 20s 791us/step - loss: 1.9688e-07 - acc: 1.0000 - val_loss: 1.0544 - val_acc: 0.8794\n",
            "Epoch 19/20\n",
            "25000/25000 [==============================] - 20s 790us/step - loss: 1.3314e-07 - acc: 1.0000 - val_loss: 1.0856 - val_acc: 0.8789\n",
            "Epoch 20/20\n",
            "25000/25000 [==============================] - 20s 793us/step - loss: 1.1883e-07 - acc: 1.0000 - val_loss: 1.0990 - val_acc: 0.8789\n"
          ],
          "name": "stdout"
        }
      ]
    },
    {
      "metadata": {
        "id": "ozPnQ_KcYAIs",
        "colab_type": "code",
        "colab": {
          "base_uri": "https://localhost:8080/",
          "height": 361
        },
        "outputId": "33871c11-1436-4bcd-85c2-c690f6b269fd"
      },
      "cell_type": "code",
      "source": [
        "bigger_model_val_loss = bigger_model_hist.history['val_loss']\n",
        "\n",
        "plt.plot(epochs, original_val_loss, '-', label='Original model')\n",
        "plt.plot(epochs, bigger_model_val_loss, 'bo', label='Bigger model')\n",
        "plt.xlabel('Epochs')\n",
        "plt.ylabel('Validation loss')\n",
        "plt.legend()\n",
        "\n",
        "plt.show()"
      ],
      "execution_count": 15,
      "outputs": [
        {
          "output_type": "display_data",
          "data": {
            "image/png": "[encoded data removed]",
            "text/plain": [
              "<matplotlib.figure.Figure at 0x7f1b61c456a0>"
            ]
          },
          "metadata": {
            "tags": []
          }
        }
      ]
    },
    {
      "metadata": {
        "id": "rNoKvCHKYAE7",
        "colab_type": "code",
        "colab": {
          "base_uri": "https://localhost:8080/",
          "height": 745
        },
        "outputId": "64dc0af5-95e7-4569-b606-72c9a96d2204"
      },
      "cell_type": "code",
      "source": [
        "from keras import regularizers\n",
        "\n",
        "l2_model = models.Sequential()\n",
        "l2_model.add(layers.Dense(16, kernel_regularizer=regularizers.l2(0.001),\n",
        "                          activation='relu', input_shape=(10000,)))\n",
        "l2_model.add(layers.Dense(16, kernel_regularizer=regularizers.l2(0.001),\n",
        "                          activation='relu'))\n",
        "l2_model.add(layers.Dense(1, activation='sigmoid'))\n",
        "\n",
        "l2_model.compile(optimizer='rmsprop',\n",
        "                 loss='binary_crossentropy',\n",
        "                 metrics=['acc'])\n",
        "\n",
        "l2_model_hist = l2_model.fit(x_train, y_train,\n",
        "                             epochs=20,\n",
        "                             batch_size=512,\n",
        "                             validation_data=(x_test, y_test))l2_model_val_loss = l2_model_hist.history['val_loss']\n",
        "\n",
        "plt.plot(epochs, original_val_loss, 'b+', label='Original model')\n",
        "plt.plot(epochs, l2_model_val_loss, 'bo', label='L2-regularized model')\n",
        "plt.xlabel('Epochs')\n",
        "plt.ylabel('Validation loss')\n",
        "plt.legend()\n",
        "\n",
        "plt.show()"
      ],
      "execution_count": 16,
      "outputs": [
        {
          "output_type": "stream",
          "text": [
            "Train on 25000 samples, validate on 25000 samples\n",
            "Epoch 1/20\n",
            "25000/25000 [==============================] - 4s 178us/step - loss: 0.4871 - acc: 0.8161 - val_loss: 0.3897 - val_acc: 0.8655\n",
            "Epoch 2/20\n",
            "25000/25000 [==============================] - 4s 163us/step - loss: 0.3098 - acc: 0.9059 - val_loss: 0.3307 - val_acc: 0.8889\n",
            "Epoch 3/20\n",
            "25000/25000 [==============================] - 4s 162us/step - loss: 0.2648 - acc: 0.9206 - val_loss: 0.3307 - val_acc: 0.8872\n",
            "Epoch 4/20\n",
            "25000/25000 [==============================] - 4s 161us/step - loss: 0.2452 - acc: 0.9292 - val_loss: 0.3405 - val_acc: 0.8822\n",
            "Epoch 5/20\n",
            "25000/25000 [==============================] - 4s 163us/step - loss: 0.2314 - acc: 0.9353 - val_loss: 0.3805 - val_acc: 0.8684\n",
            "Epoch 6/20\n",
            "25000/25000 [==============================] - 4s 162us/step - loss: 0.2231 - acc: 0.9389 - val_loss: 0.3653 - val_acc: 0.8758\n",
            "Epoch 7/20\n",
            "25000/25000 [==============================] - 4s 161us/step - loss: 0.2162 - acc: 0.9420 - val_loss: 0.3764 - val_acc: 0.8734\n",
            "Epoch 8/20\n",
            "25000/25000 [==============================] - 4s 161us/step - loss: 0.2098 - acc: 0.9449 - val_loss: 0.3741 - val_acc: 0.8754\n",
            "Epoch 9/20\n",
            "25000/25000 [==============================] - 4s 161us/step - loss: 0.2038 - acc: 0.9468 - val_loss: 0.3770 - val_acc: 0.8754\n",
            "Epoch 10/20\n",
            "25000/25000 [==============================] - 4s 162us/step - loss: 0.2002 - acc: 0.9502 - val_loss: 0.3820 - val_acc: 0.8750\n",
            "Epoch 11/20\n",
            "25000/25000 [==============================] - 4s 162us/step - loss: 0.1944 - acc: 0.9495 - val_loss: 0.3837 - val_acc: 0.8765\n",
            "Epoch 12/20\n",
            "25000/25000 [==============================] - 4s 163us/step - loss: 0.1919 - acc: 0.9520 - val_loss: 0.3947 - val_acc: 0.8738\n",
            "Epoch 13/20\n",
            "25000/25000 [==============================] - 4s 162us/step - loss: 0.1880 - acc: 0.9544 - val_loss: 0.3962 - val_acc: 0.8734\n",
            "Epoch 14/20\n",
            "25000/25000 [==============================] - 4s 163us/step - loss: 0.1816 - acc: 0.9568 - val_loss: 0.4413 - val_acc: 0.8617\n",
            "Epoch 15/20\n",
            "25000/25000 [==============================] - 4s 164us/step - loss: 0.1828 - acc: 0.9570 - val_loss: 0.4437 - val_acc: 0.8606\n",
            "Epoch 16/20\n",
            "25000/25000 [==============================] - 4s 163us/step - loss: 0.1762 - acc: 0.9602 - val_loss: 0.4391 - val_acc: 0.8658\n",
            "Epoch 17/20\n",
            "25000/25000 [==============================] - 4s 161us/step - loss: 0.1726 - acc: 0.9608 - val_loss: 0.4203 - val_acc: 0.8694\n",
            "Epoch 18/20\n",
            "25000/25000 [==============================] - 4s 161us/step - loss: 0.1715 - acc: 0.9609 - val_loss: 0.4393 - val_acc: 0.8676\n",
            "Epoch 19/20\n",
            "25000/25000 [==============================] - 4s 172us/step - loss: 0.1670 - acc: 0.9644 - val_loss: 0.4506 - val_acc: 0.8634\n",
            "Epoch 20/20\n",
            "25000/25000 [==============================] - 4s 163us/step - loss: 0.1633 - acc: 0.9653 - val_loss: 0.4318 - val_acc: 0.8699\n"
          ],
          "name": "stdout"
        }
      ]
    },
    {
      "metadata": {
        "id": "aEon4N8tYAC2",
        "colab_type": "code",
        "colab": {
          "base_uri": "https://localhost:8080/",
          "height": 362
        },
        "outputId": "48e83def-2b38-4de8-8347-8d05e50b955d"
      },
      "cell_type": "code",
      "source": [
        "l2_model_val_loss = l2_model_hist.history['val_loss']\n",
        "\n",
        "plt.plot(epochs, original_val_loss, '*', label='Original model')\n",
        "plt.plot(epochs, l2_model_val_loss, 'bo', label='L2-regularized model')\n",
        "plt.xlabel('Epochs')\n",
        "plt.ylabel('Validation loss')\n",
        "plt.legend()\n",
        "\n",
        "plt.show()"
      ],
      "execution_count": 17,
      "outputs": [
        {
          "output_type": "display_data",
          "data": {
            "image/png": "[encoded data removed]",
            "text/plain": [
              "<matplotlib.figure.Figure at 0x7f1b61dc1eb8>"
            ]
          },
          "metadata": {
            "tags": []
          }
        }
      ]
    },
    {
      "metadata": {
        "id": "Ea83kvHqYAAx",
        "colab_type": "code",
        "colab": {
          "base_uri": "https://localhost:8080/",
          "height": 34
        },
        "outputId": "03ca2ee4-a180-4379-f563-8a03c06decc3"
      },
      "cell_type": "code",
      "source": [
        "#As alternatives to L2 regularization, you could use one of the following Keras weight regularizers:\n",
        "\n",
        "from keras import regularizers\n",
        "\n",
        "# L1 regularization\n",
        "regularizers.l1(0.001)\n",
        "\n",
        "# L1 and L2 regularization at the same time(Elastic Reqularization)\n",
        "regularizers.l1_l2(l1=0.001, l2=0.001)"
      ],
      "execution_count": 18,
      "outputs": [
        {
          "output_type": "execute_result",
          "data": {
            "text/plain": [
              "<keras.regularizers.L1L2 at 0x7f1b54d8a1d0>"
            ]
          },
          "metadata": {
            "tags": []
          },
          "execution_count": 18
        }
      ]
    },
    {
      "metadata": {
        "id": "kE0rY5EAX_-m",
        "colab_type": "code",
        "colab": {
          "base_uri": "https://localhost:8080/",
          "height": 745
        },
        "outputId": "86f36b76-756b-42d1-ee31-14ed0cd75c6b"
      },
      "cell_type": "code",
      "source": [
        "#Adding Dropout\n",
        "dpt_model = models.Sequential()\n",
        "dpt_model.add(layers.Dense(16, activation='relu', input_shape=(10000,)))\n",
        "dpt_model.add(layers.Dropout(0.5))\n",
        "dpt_model.add(layers.Dense(16, activation='relu'))\n",
        "dpt_model.add(layers.Dropout(0.5))\n",
        "dpt_model.add(layers.Dense(1, activation='sigmoid'))\n",
        "\n",
        "dpt_model.compile(optimizer='rmsprop',\n",
        "                  loss='binary_crossentropy',\n",
        "                  metrics=['acc'])\n",
        "\n",
        "dpt_model_hist = dpt_model.fit(x_train, y_train,\n",
        "                               epochs=20,\n",
        "                               batch_size=512,\n",
        "                               validation_data=(x_test, y_test))"
      ],
      "execution_count": 19,
      "outputs": [
        {
          "output_type": "stream",
          "text": [
            "Train on 25000 samples, validate on 25000 samples\n",
            "Epoch 1/20\n",
            "25000/25000 [==============================] - 5s 189us/step - loss: 0.5899 - acc: 0.6838 - val_loss: 0.4312 - val_acc: 0.8620\n",
            "Epoch 2/20\n",
            "25000/25000 [==============================] - 4s 163us/step - loss: 0.4351 - acc: 0.8189 - val_loss: 0.3458 - val_acc: 0.8725\n",
            "Epoch 3/20\n",
            "25000/25000 [==============================] - 4s 162us/step - loss: 0.3471 - acc: 0.8707 - val_loss: 0.2932 - val_acc: 0.8855\n",
            "Epoch 4/20\n",
            "25000/25000 [==============================] - 4s 163us/step - loss: 0.2889 - acc: 0.8984 - val_loss: 0.2761 - val_acc: 0.8881\n",
            "Epoch 5/20\n",
            "25000/25000 [==============================] - 4s 163us/step - loss: 0.2542 - acc: 0.9136 - val_loss: 0.2802 - val_acc: 0.8880\n",
            "Epoch 6/20\n",
            "25000/25000 [==============================] - 4s 162us/step - loss: 0.2227 - acc: 0.9260 - val_loss: 0.2883 - val_acc: 0.8864\n",
            "Epoch 7/20\n",
            "25000/25000 [==============================] - 4s 162us/step - loss: 0.1983 - acc: 0.9350 - val_loss: 0.3172 - val_acc: 0.8864\n",
            "Epoch 8/20\n",
            "25000/25000 [==============================] - 4s 163us/step - loss: 0.1792 - acc: 0.9420 - val_loss: 0.3297 - val_acc: 0.8850\n",
            "Epoch 9/20\n",
            "25000/25000 [==============================] - 4s 161us/step - loss: 0.1722 - acc: 0.9453 - val_loss: 0.3507 - val_acc: 0.8854\n",
            "Epoch 10/20\n",
            "25000/25000 [==============================] - 4s 162us/step - loss: 0.1533 - acc: 0.9491 - val_loss: 0.3711 - val_acc: 0.8843\n",
            "Epoch 11/20\n",
            "25000/25000 [==============================] - 4s 162us/step - loss: 0.1452 - acc: 0.9525 - val_loss: 0.3899 - val_acc: 0.8810\n",
            "Epoch 12/20\n",
            "25000/25000 [==============================] - 4s 163us/step - loss: 0.1372 - acc: 0.9586 - val_loss: 0.4359 - val_acc: 0.8754\n",
            "Epoch 13/20\n",
            "25000/25000 [==============================] - 4s 163us/step - loss: 0.1243 - acc: 0.9595 - val_loss: 0.4421 - val_acc: 0.8777\n",
            "Epoch 14/20\n",
            "25000/25000 [==============================] - 4s 162us/step - loss: 0.1193 - acc: 0.9602 - val_loss: 0.4571 - val_acc: 0.8762\n",
            "Epoch 15/20\n",
            "25000/25000 [==============================] - 4s 162us/step - loss: 0.1145 - acc: 0.9634 - val_loss: 0.4919 - val_acc: 0.8749\n",
            "Epoch 16/20\n",
            "25000/25000 [==============================] - 4s 162us/step - loss: 0.1143 - acc: 0.9648 - val_loss: 0.5128 - val_acc: 0.8766\n",
            "Epoch 17/20\n",
            "25000/25000 [==============================] - 4s 161us/step - loss: 0.1089 - acc: 0.9653 - val_loss: 0.5402 - val_acc: 0.8743\n",
            "Epoch 18/20\n",
            "25000/25000 [==============================] - 4s 160us/step - loss: 0.1083 - acc: 0.9674 - val_loss: 0.5351 - val_acc: 0.8736\n",
            "Epoch 19/20\n",
            "25000/25000 [==============================] - 4s 163us/step - loss: 0.0989 - acc: 0.9670 - val_loss: 0.5793 - val_acc: 0.8718\n",
            "Epoch 20/20\n",
            "25000/25000 [==============================] - 4s 163us/step - loss: 0.1014 - acc: 0.9686 - val_loss: 0.5809 - val_acc: 0.8711\n"
          ],
          "name": "stdout"
        }
      ]
    },
    {
      "metadata": {
        "id": "bhzM5xNZX_8m",
        "colab_type": "code",
        "colab": {
          "base_uri": "https://localhost:8080/",
          "height": 362
        },
        "outputId": "a7d8ff99-1463-415d-fd96-0b40231db51f"
      },
      "cell_type": "code",
      "source": [
        "dpt_model_val_loss = dpt_model_hist.history['val_loss']\n",
        "\n",
        "plt.plot(epochs, original_val_loss, '*', label='Original model')\n",
        "plt.plot(epochs, dpt_model_val_loss, 'bo', label='Dropout-regularized model')\n",
        "plt.xlabel('Epochs')\n",
        "plt.ylabel('Validation loss')\n",
        "plt.legend()\n",
        "\n",
        "plt.show()"
      ],
      "execution_count": 21,
      "outputs": [
        {
          "output_type": "display_data",
          "data": {
            "image/png": "[encoded data removed]",
            "text/plain": [
              "<matplotlib.figure.Figure at 0x7f1b5f6e58d0>"
            ]
          },
          "metadata": {
            "tags": []
          }
        }
      ]
    },
    {
      "metadata": {
        "id": "b8XUUzOwX_6c",
        "colab_type": "code",
        "colab": {}
      },
      "cell_type": "code",
      "source": [
        ""
      ],
      "execution_count": 0,
      "outputs": []
    },
    {
      "metadata": {
        "id": "_7yAoieeX_4S",
        "colab_type": "code",
        "colab": {}
      },
      "cell_type": "code",
      "source": [
        ""
      ],
      "execution_count": 0,
      "outputs": []
    },
    {
      "metadata": {
        "id": "K1Q2JqK3X_2K",
        "colab_type": "code",
        "colab": {}
      },
      "cell_type": "code",
      "source": [
        ""
      ],
      "execution_count": 0,
      "outputs": []
    },
    {
      "metadata": {
        "id": "nSJArrXlX_zq",
        "colab_type": "code",
        "colab": {}
      },
      "cell_type": "code",
      "source": [
        ""
      ],
      "execution_count": 0,
      "outputs": []
    },
    {
      "metadata": {
        "id": "_cfWc-0XX_xV",
        "colab_type": "code",
        "colab": {}
      },
      "cell_type": "code",
      "source": [
        ""
      ],
      "execution_count": 0,
      "outputs": []
    },
    {
      "metadata": {
        "id": "K3OulCTrX_u5",
        "colab_type": "code",
        "colab": {}
      },
      "cell_type": "code",
      "source": [
        ""
      ],
      "execution_count": 0,
      "outputs": []
    },
    {
      "metadata": {
        "id": "RsofSoLFX_st",
        "colab_type": "code",
        "colab": {}
      },
      "cell_type": "code",
      "source": [
        ""
      ],
      "execution_count": 0,
      "outputs": []
    },
    {
      "metadata": {
        "id": "96M4rgIJX_hm",
        "colab_type": "code",
        "colab": {}
      },
      "cell_type": "code",
      "source": [
        ""
      ],
      "execution_count": 0,
      "outputs": []
    }
  ]
}