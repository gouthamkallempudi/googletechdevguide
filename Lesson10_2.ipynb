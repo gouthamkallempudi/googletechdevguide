{
  "nbformat": 4,
  "nbformat_minor": 0,
  "metadata": {
    "colab": {
      "name": "Lesson10.2.ipynb",
      "version": "0.3.2",
      "provenance": [],
      "collapsed_sections": [],
      "include_colab_link": true
    },
    "kernelspec": {
      "name": "python3",
      "display_name": "Python 3"
    },
    "accelerator": "TPU"
  },
  "cells": [
    {
      "cell_type": "markdown",
      "metadata": {
        "id": "view-in-github",
        "colab_type": "text"
      },
      "source": [
        "<a href=\"https://colab.research.google.com/github/gouthamkallempudi/googletechdevguide/blob/master/Lesson10_2.ipynb\" target=\"_parent\"><img src=\"https://colab.research.google.com/assets/colab-badge.svg\" alt=\"Open In Colab\"/></a>"
      ]
    },
    {
      "metadata": {
        "id": "_RU0XAVZ--hj",
        "colab_type": "code",
        "outputId": "f5b92ab1-5192-4e4f-97a0-d4095b6c1314",
        "colab": {
          "base_uri": "https://localhost:8080/",
          "height": 34
        }
      },
      "cell_type": "code",
      "source": [
        "import keras\n",
        "keras.__version__"
      ],
      "execution_count": 40,
      "outputs": [
        {
          "output_type": "execute_result",
          "data": {
            "text/plain": [
              "'2.2.4'"
            ]
          },
          "metadata": {
            "tags": []
          },
          "execution_count": 40
        }
      ]
    },
    {
      "metadata": {
        "id": "cXqcy3VE_7eV",
        "colab_type": "code",
        "outputId": "9c695a81-ac48-4d3d-8d23-06d13f1a119a",
        "colab": {
          "base_uri": "https://localhost:8080/",
          "height": 34
        }
      },
      "cell_type": "code",
      "source": [
        "from keras.datasets import imdb\n",
        "(train_data , train_labels) , (test_data , test_labels) = imdb.load_data(num_words = 10000)\n",
        "print(train_data.shape)"
      ],
      "execution_count": 41,
      "outputs": [
        {
          "output_type": "stream",
          "text": [
            "(25000,)\n"
          ],
          "name": "stdout"
        }
      ]
    },
    {
      "metadata": {
        "id": "2YZaOQp5_7nC",
        "colab_type": "code",
        "outputId": "235209f3-ddb1-48ff-8bc0-b6161c7d058d",
        "colab": {
          "base_uri": "https://localhost:8080/",
          "height": 34
        }
      },
      "cell_type": "code",
      "source": [
        "len(train_data[3])"
      ],
      "execution_count": 42,
      "outputs": [
        {
          "output_type": "execute_result",
          "data": {
            "text/plain": [
              "550"
            ]
          },
          "metadata": {
            "tags": []
          },
          "execution_count": 42
        }
      ]
    },
    {
      "metadata": {
        "id": "9vagGe1w_7sR",
        "colab_type": "code",
        "outputId": "8b5d9dce-4507-4f68-9eca-9acbafd7cb2a",
        "colab": {
          "base_uri": "https://localhost:8080/",
          "height": 34
        }
      },
      "cell_type": "code",
      "source": [
        "max([len(sequence) for sequence in train_data])"
      ],
      "execution_count": 43,
      "outputs": [
        {
          "output_type": "execute_result",
          "data": {
            "text/plain": [
              "2494"
            ]
          },
          "metadata": {
            "tags": []
          },
          "execution_count": 43
        }
      ]
    },
    {
      "metadata": {
        "id": "jI2-TvCi_7vr",
        "colab_type": "code",
        "outputId": "fe1aa387-2a77-4d8b-d1e4-f9bba1691462",
        "colab": {
          "base_uri": "https://localhost:8080/",
          "height": 34
        }
      },
      "cell_type": "code",
      "source": [
        "max([max(sequence) for sequence in train_data])"
      ],
      "execution_count": 44,
      "outputs": [
        {
          "output_type": "execute_result",
          "data": {
            "text/plain": [
              "9999"
            ]
          },
          "metadata": {
            "tags": []
          },
          "execution_count": 44
        }
      ]
    },
    {
      "metadata": {
        "id": "4AcjjxR9_7zE",
        "colab_type": "code",
        "colab": {}
      },
      "cell_type": "code",
      "source": [
        "import numpy as np\n",
        "\n",
        "def vectorize_sequences(sequences , dimensions = 10000):\n",
        "  results = np.zeros((len(sequences) , dimensions))\n",
        "  for i , sequence in enumerate(sequences):\n",
        "    results[i , sequence] = 1\n",
        "  return results  \n",
        "    \n",
        "    \n",
        "x_train = vectorize_sequences(train_data)    \n",
        "x_test = vectorize_sequences(test_data)    "
      ],
      "execution_count": 0,
      "outputs": []
    },
    {
      "metadata": {
        "id": "4LwulTf0_74h",
        "colab_type": "code",
        "colab": {
          "base_uri": "https://localhost:8080/",
          "height": 87
        },
        "outputId": "86ba027c-68ea-4be8-c90c-6b6ee71c96da"
      },
      "cell_type": "code",
      "source": [
        "print(x_train[0].shape)\n",
        "print(x_train[1].shape)\n",
        "print(x_train.shape)\n",
        "x_train.dtype"
      ],
      "execution_count": 46,
      "outputs": [
        {
          "output_type": "stream",
          "text": [
            "(10000,)\n",
            "(10000,)\n",
            "(25000, 10000)\n"
          ],
          "name": "stdout"
        },
        {
          "output_type": "execute_result",
          "data": {
            "text/plain": [
              "dtype('float64')"
            ]
          },
          "metadata": {
            "tags": []
          },
          "execution_count": 46
        }
      ]
    },
    {
      "metadata": {
        "id": "54j3VIlN_77r",
        "colab_type": "code",
        "colab": {}
      },
      "cell_type": "code",
      "source": [
        "y_train = np.asarray(train_labels).astype('float32')\n",
        "y_test = np.array(test_labels).astype('float32')"
      ],
      "execution_count": 0,
      "outputs": []
    },
    {
      "metadata": {
        "id": "-6tauWUe6Pd5",
        "colab_type": "code",
        "colab": {
          "base_uri": "https://localhost:8080/",
          "height": 34
        },
        "outputId": "d3765dd5-4b84-4c61-8585-62e73eaf6a75"
      },
      "cell_type": "code",
      "source": [
        "y_train.shape"
      ],
      "execution_count": 48,
      "outputs": [
        {
          "output_type": "execute_result",
          "data": {
            "text/plain": [
              "(25000,)"
            ]
          },
          "metadata": {
            "tags": []
          },
          "execution_count": 48
        }
      ]
    },
    {
      "metadata": {
        "id": "a6ivpf7G6QND",
        "colab_type": "code",
        "colab": {}
      },
      "cell_type": "code",
      "source": [
        "from keras.models import Sequential\n",
        "from keras.layers import Dense\n",
        "\n",
        "model = Sequential()\n",
        "model.add(Dense(16, activation='relu', input_shape=(10000,)))\n",
        "model.add(Dense(16 , activation = \"relu\"))\n",
        "model.add(Dense(1 , activation = \"sigmoid\"))"
      ],
      "execution_count": 0,
      "outputs": []
    },
    {
      "metadata": {
        "id": "3vkDT7tz6QJs",
        "colab_type": "code",
        "colab": {}
      },
      "cell_type": "code",
      "source": [
        "model.compile(optimizer = \"rmsprop\" , loss = \"binary_crossentropy\" , metrics = [\"accuracy\"])"
      ],
      "execution_count": 0,
      "outputs": []
    },
    {
      "metadata": {
        "id": "rscYAmwj6QHG",
        "colab_type": "code",
        "colab": {}
      },
      "cell_type": "code",
      "source": [
        "from keras.optimizers import RMSprop\n",
        "from keras.losses import binary_crossentropy\n",
        "from keras.metrics import binary_accuracy\n",
        "\n",
        "model.compile(optimizer = RMSprop(lr = 0.01) , loss = binary_crossentropy , metrics = [binary_accuracy])"
      ],
      "execution_count": 0,
      "outputs": []
    },
    {
      "metadata": {
        "id": "RdCmkdlo6QEq",
        "colab_type": "code",
        "colab": {}
      },
      "cell_type": "code",
      "source": [
        "# validation set\n",
        "x_val = x_train[:10000]\n",
        "partial_train_x = x_train[10000 : ]\n",
        "\n",
        "y_val = y_train[:10000]\n",
        "partial_train_y = y_train[10000 : ]"
      ],
      "execution_count": 0,
      "outputs": []
    },
    {
      "metadata": {
        "id": "esSjqyaa6QCR",
        "colab_type": "code",
        "colab": {
          "base_uri": "https://localhost:8080/",
          "height": 745
        },
        "outputId": "9cc34d51-2fdc-4714-b72f-4c1c9d4d9510"
      },
      "cell_type": "code",
      "source": [
        "history = model.fit(partial_train_x , partial_train_y , epochs = 20 , batch_size = 512 , validation_data = (x_val , y_val))"
      ],
      "execution_count": 53,
      "outputs": [
        {
          "output_type": "stream",
          "text": [
            "Train on 15000 samples, validate on 10000 samples\n",
            "Epoch 1/20\n",
            "15000/15000 [==============================] - 3s 184us/step - loss: 0.6634 - binary_accuracy: 0.6474 - val_loss: 0.3594 - val_binary_accuracy: 0.8664\n",
            "Epoch 2/20\n",
            "15000/15000 [==============================] - 2s 164us/step - loss: 0.3124 - binary_accuracy: 0.8770 - val_loss: 0.2779 - val_binary_accuracy: 0.8912\n",
            "Epoch 3/20\n",
            "15000/15000 [==============================] - 2s 164us/step - loss: 0.2615 - binary_accuracy: 0.8914 - val_loss: 0.4428 - val_binary_accuracy: 0.8273\n",
            "Epoch 4/20\n",
            "15000/15000 [==============================] - 2s 164us/step - loss: 0.2333 - binary_accuracy: 0.9089 - val_loss: 0.3661 - val_binary_accuracy: 0.8619\n",
            "Epoch 5/20\n",
            "15000/15000 [==============================] - 2s 164us/step - loss: 0.1426 - binary_accuracy: 0.9456 - val_loss: 0.3940 - val_binary_accuracy: 0.8742\n",
            "Epoch 6/20\n",
            "15000/15000 [==============================] - 2s 164us/step - loss: 0.1614 - binary_accuracy: 0.9465 - val_loss: 0.4578 - val_binary_accuracy: 0.8777\n",
            "Epoch 7/20\n",
            "15000/15000 [==============================] - 2s 165us/step - loss: 0.1617 - binary_accuracy: 0.9584 - val_loss: 0.4740 - val_binary_accuracy: 0.8825\n",
            "Epoch 8/20\n",
            "15000/15000 [==============================] - 2s 164us/step - loss: 0.1380 - binary_accuracy: 0.9716 - val_loss: 0.4833 - val_binary_accuracy: 0.8815\n",
            "Epoch 9/20\n",
            "15000/15000 [==============================] - 2s 163us/step - loss: 0.0155 - binary_accuracy: 0.9955 - val_loss: 0.5748 - val_binary_accuracy: 0.8795\n",
            "Epoch 10/20\n",
            "15000/15000 [==============================] - 2s 163us/step - loss: 0.1357 - binary_accuracy: 0.9779 - val_loss: 0.6060 - val_binary_accuracy: 0.8792\n",
            "Epoch 11/20\n",
            "15000/15000 [==============================] - 2s 164us/step - loss: 0.0075 - binary_accuracy: 0.9973 - val_loss: 0.6928 - val_binary_accuracy: 0.8765\n",
            "Epoch 12/20\n",
            "15000/15000 [==============================] - 2s 165us/step - loss: 0.1884 - binary_accuracy: 0.9762 - val_loss: 0.7733 - val_binary_accuracy: 0.8795\n",
            "Epoch 13/20\n",
            "15000/15000 [==============================] - 2s 165us/step - loss: 0.0045 - binary_accuracy: 0.9979 - val_loss: 0.7754 - val_binary_accuracy: 0.8780\n",
            "Epoch 14/20\n",
            "15000/15000 [==============================] - 2s 166us/step - loss: 0.0038 - binary_accuracy: 0.9981 - val_loss: 1.1115 - val_binary_accuracy: 0.8564\n",
            "Epoch 15/20\n",
            "15000/15000 [==============================] - 3s 167us/step - loss: 0.1871 - binary_accuracy: 0.9760 - val_loss: 0.8481 - val_binary_accuracy: 0.8779\n",
            "Epoch 16/20\n",
            "15000/15000 [==============================] - 3s 189us/step - loss: 0.0031 - binary_accuracy: 0.9980 - val_loss: 0.8686 - val_binary_accuracy: 0.8776\n",
            "Epoch 17/20\n",
            "15000/15000 [==============================] - 3s 222us/step - loss: 0.1525 - binary_accuracy: 0.9811 - val_loss: 0.8520 - val_binary_accuracy: 0.8771\n",
            "Epoch 18/20\n",
            "15000/15000 [==============================] - 3s 179us/step - loss: 0.0027 - binary_accuracy: 0.9981 - val_loss: 0.8749 - val_binary_accuracy: 0.8758\n",
            "Epoch 19/20\n",
            "15000/15000 [==============================] - 3s 183us/step - loss: 0.0028 - binary_accuracy: 0.9984 - val_loss: 1.0278 - val_binary_accuracy: 0.8636\n",
            "Epoch 20/20\n",
            "15000/15000 [==============================] - 3s 179us/step - loss: 0.1184 - binary_accuracy: 0.9821 - val_loss: 0.9126 - val_binary_accuracy: 0.8742\n"
          ],
          "name": "stdout"
        }
      ]
    },
    {
      "metadata": {
        "id": "T2V_JJaR6QAG",
        "colab_type": "code",
        "colab": {
          "base_uri": "https://localhost:8080/",
          "height": 34
        },
        "outputId": "6d2c68cd-a310-4ccc-83ef-4cbe51f0f292"
      },
      "cell_type": "code",
      "source": [
        "history_dict  = history.history\n",
        "history_dict.keys()"
      ],
      "execution_count": 56,
      "outputs": [
        {
          "output_type": "execute_result",
          "data": {
            "text/plain": [
              "dict_keys(['val_loss', 'val_binary_accuracy', 'loss', 'binary_accuracy'])"
            ]
          },
          "metadata": {
            "tags": []
          },
          "execution_count": 56
        }
      ]
    },
    {
      "metadata": {
        "id": "w_QZt-xO6P89",
        "colab_type": "code",
        "colab": {
          "base_uri": "https://localhost:8080/",
          "height": 375
        },
        "outputId": "9a80f818-a79d-445f-8ab8-cba7f462bb5b"
      },
      "cell_type": "code",
      "source": [
        "import matplotlib.pyplot as plt\n",
        "\n",
        "acc = history.history['binary_accuracy']\n",
        "val_acc = history.history['val_binary_accuracy']\n",
        "loss = history.history['loss']\n",
        "val_loss = history.history['val_loss']\n",
        "\n",
        "epochs = range(1, len(acc) + 1)\n",
        "\n",
        "# \"bo\" is for \"blue dot\"\n",
        "plt.plot(epochs, loss, 'bo', label='Training loss')\n",
        "# b is for \"solid blue line\"\n",
        "plt.plot(epochs, val_loss, 'b', label='Validation loss')\n",
        "plt.title('Training and validation loss')\n",
        "plt.xlabel('Epochs')\n",
        "plt.ylabel('Loss')\n",
        "plt.legend()\n",
        "\n",
        "plt.show()"
      ],
      "execution_count": 57,
      "outputs": [
        {
          "output_type": "display_data",
          "data": {
            "image/png": "[encoded data removed]",
            "text/plain": [
              "<matplotlib.figure.Figure at 0x7f69fd7c1278>"
            ]
          },
          "metadata": {
            "tags": []
          }
        }
      ]
    },
    {
      "metadata": {
        "id": "GSMiZ4su6P6n",
        "colab_type": "code",
        "colab": {
          "base_uri": "https://localhost:8080/",
          "height": 176
        },
        "outputId": "f90154b9-e36c-4fa5-93aa-bfa09d6820aa"
      },
      "cell_type": "code",
      "source": [
        "#Let's train a new network from scratch for four epochs, then evaluate it on our test data:\n",
        "model = Sequential()\n",
        "model.add(Dense(16, activation='relu', input_shape=(10000,)))\n",
        "model.add(Dense(16, activation='relu'))\n",
        "model.add(Dense(1, activation='sigmoid'))\n",
        "\n",
        "model.compile(optimizer='rmsprop',\n",
        "              loss='binary_crossentropy',\n",
        "              metrics=['accuracy'])\n",
        "\n",
        "model.fit(x_train, y_train, epochs=4, batch_size=512)\n",
        "results = model.evaluate(x_test, y_test)"
      ],
      "execution_count": 60,
      "outputs": [
        {
          "output_type": "stream",
          "text": [
            "Epoch 1/4\n",
            "25000/25000 [==============================] - 5s 196us/step - loss: 0.4735 - acc: 0.8218\n",
            "Epoch 2/4\n",
            "25000/25000 [==============================] - 3s 116us/step - loss: 0.2672 - acc: 0.9095\n",
            "Epoch 3/4\n",
            "25000/25000 [==============================] - 3s 116us/step - loss: 0.2030 - acc: 0.9284\n",
            "Epoch 4/4\n",
            "25000/25000 [==============================] - 3s 116us/step - loss: 0.1709 - acc: 0.9391\n",
            "25000/25000 [==============================] - 2s 83us/step\n"
          ],
          "name": "stdout"
        }
      ]
    },
    {
      "metadata": {
        "colab_type": "code",
        "id": "bjEF1XinA_9H",
        "colab": {
          "base_uri": "https://localhost:8080/",
          "height": 34
        },
        "outputId": "f53fbfc1-801f-48e4-eba5-ee549ec60c6b"
      },
      "cell_type": "code",
      "source": [
        "results"
      ],
      "execution_count": 62,
      "outputs": [
        {
          "output_type": "execute_result",
          "data": {
            "text/plain": [
              "[0.31102097086906433, 0.8764]"
            ]
          },
          "metadata": {
            "tags": []
          },
          "execution_count": 62
        }
      ]
    },
    {
      "metadata": {
        "id": "oqiG7IAp6P34",
        "colab_type": "code",
        "colab": {
          "base_uri": "https://localhost:8080/",
          "height": 141
        },
        "outputId": "877876ae-1e81-40db-98b3-5a47ebb64fc9"
      },
      "cell_type": "code",
      "source": [
        "model.predict(x_test)"
      ],
      "execution_count": 63,
      "outputs": [
        {
          "output_type": "execute_result",
          "data": {
            "text/plain": [
              "array([[0.16045794],\n",
              "       [0.999851  ],\n",
              "       [0.41905996],\n",
              "       ...,\n",
              "       [0.0818826 ],\n",
              "       [0.05005472],\n",
              "       [0.46292472]], dtype=float32)"
            ]
          },
          "metadata": {
            "tags": []
          },
          "execution_count": 63
        }
      ]
    },
    {
      "metadata": {
        "id": "5Pain5GX6P1q",
        "colab_type": "code",
        "colab": {}
      },
      "cell_type": "code",
      "source": [
        "# Further experiments\n",
        "# We were using 2 hidden layers. Try to use 1 or 3 hidden layers and see how it affects validation and test accuracy.\n",
        "# Try to use layers with more hidden units or less hidden units: 32 units, 64 units...\n",
        "# Try to use the mse loss function instead of binary_crossentropy.\n",
        "# Try to use the tanh activation (an activation that was popular in the early days of neural networks) instead of relu."
      ],
      "execution_count": 0,
      "outputs": []
    },
    {
      "metadata": {
        "id": "q0QwMXQG6PzX",
        "colab_type": "code",
        "colab": {}
      },
      "cell_type": "code",
      "source": [
        ""
      ],
      "execution_count": 0,
      "outputs": []
    },
    {
      "metadata": {
        "id": "iqHQsDeb6Pw_",
        "colab_type": "code",
        "colab": {}
      },
      "cell_type": "code",
      "source": [
        ""
      ],
      "execution_count": 0,
      "outputs": []
    },
    {
      "metadata": {
        "id": "AtLJM0li6Ptt",
        "colab_type": "code",
        "colab": {}
      },
      "cell_type": "code",
      "source": [
        ""
      ],
      "execution_count": 0,
      "outputs": []
    },
    {
      "metadata": {
        "id": "9-vHybGn6PqO",
        "colab_type": "code",
        "colab": {}
      },
      "cell_type": "code",
      "source": [
        ""
      ],
      "execution_count": 0,
      "outputs": []
    },
    {
      "metadata": {
        "id": "MXs7PQOT6PnW",
        "colab_type": "code",
        "colab": {}
      },
      "cell_type": "code",
      "source": [
        ""
      ],
      "execution_count": 0,
      "outputs": []
    },
    {
      "metadata": {
        "id": "DUU-swCO6PlG",
        "colab_type": "code",
        "colab": {}
      },
      "cell_type": "code",
      "source": [
        ""
      ],
      "execution_count": 0,
      "outputs": []
    }
  ]
}